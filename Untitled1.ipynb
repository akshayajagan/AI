{
  "nbformat": 4,
  "nbformat_minor": 0,
  "metadata": {
    "colab": {
      "provenance": [],
      "authorship_tag": "ABX9TyM5H7CEvmcMYpF8HI1HOszn",
      "include_colab_link": true
    },
    "kernelspec": {
      "name": "python3",
      "display_name": "Python 3"
    },
    "language_info": {
      "name": "python"
    }
  },
  "cells": [
    {
      "cell_type": "markdown",
      "metadata": {
        "id": "view-in-github",
        "colab_type": "text"
      },
      "source": [
        "<a href=\"https://colab.research.google.com/github/akshayajagan/AI/blob/main/Untitled1.ipynb\" target=\"_parent\"><img src=\"https://colab.research.google.com/assets/colab-badge.svg\" alt=\"Open In Colab\"/></a>"
      ]
    },
    {
      "cell_type": "code",
      "execution_count": 56,
      "metadata": {
        "id": "Opbli_DvmaXM"
      },
      "outputs": [],
      "source": [
        "import os"
      ]
    },
    {
      "cell_type": "code",
      "source": [
        "import logging\n"
      ],
      "metadata": {
        "id": "kD_FvV9lm6sx"
      },
      "execution_count": 57,
      "outputs": []
    },
    {
      "cell_type": "code",
      "source": [
        "pip install streamlit"
      ],
      "metadata": {
        "colab": {
          "base_uri": "https://localhost:8080/"
        },
        "id": "bK14R4W2nA2H",
        "outputId": "b334d8f6-872d-4be4-d16f-df00266d8b9c"
      },
      "execution_count": 58,
      "outputs": [
        {
          "output_type": "stream",
          "name": "stdout",
          "text": [
            "Requirement already satisfied: streamlit in /usr/local/lib/python3.11/dist-packages (1.45.1)\n",
            "Requirement already satisfied: altair<6,>=4.0 in /usr/local/lib/python3.11/dist-packages (from streamlit) (5.5.0)\n",
            "Requirement already satisfied: blinker<2,>=1.5.0 in /usr/local/lib/python3.11/dist-packages (from streamlit) (1.9.0)\n",
            "Requirement already satisfied: cachetools<6,>=4.0 in /usr/local/lib/python3.11/dist-packages (from streamlit) (5.5.2)\n",
            "Requirement already satisfied: click<9,>=7.0 in /usr/local/lib/python3.11/dist-packages (from streamlit) (8.1.8)\n",
            "Requirement already satisfied: numpy<3,>=1.23 in /usr/local/lib/python3.11/dist-packages (from streamlit) (2.0.2)\n",
            "Requirement already satisfied: packaging<25,>=20 in /usr/local/lib/python3.11/dist-packages (from streamlit) (24.2)\n",
            "Requirement already satisfied: pandas<3,>=1.4.0 in /usr/local/lib/python3.11/dist-packages (from streamlit) (2.2.2)\n",
            "Requirement already satisfied: pillow<12,>=7.1.0 in /usr/local/lib/python3.11/dist-packages (from streamlit) (11.2.1)\n",
            "Requirement already satisfied: protobuf<7,>=3.20 in /usr/local/lib/python3.11/dist-packages (from streamlit) (5.29.4)\n",
            "Requirement already satisfied: pyarrow>=7.0 in /usr/local/lib/python3.11/dist-packages (from streamlit) (18.1.0)\n",
            "Requirement already satisfied: requests<3,>=2.27 in /usr/local/lib/python3.11/dist-packages (from streamlit) (2.32.3)\n",
            "Requirement already satisfied: tenacity<10,>=8.1.0 in /usr/local/lib/python3.11/dist-packages (from streamlit) (9.1.2)\n",
            "Requirement already satisfied: toml<2,>=0.10.1 in /usr/local/lib/python3.11/dist-packages (from streamlit) (0.10.2)\n",
            "Requirement already satisfied: typing-extensions<5,>=4.4.0 in /usr/local/lib/python3.11/dist-packages (from streamlit) (4.13.2)\n",
            "Requirement already satisfied: watchdog<7,>=2.1.5 in /usr/local/lib/python3.11/dist-packages (from streamlit) (6.0.0)\n",
            "Requirement already satisfied: gitpython!=3.1.19,<4,>=3.0.7 in /usr/local/lib/python3.11/dist-packages (from streamlit) (3.1.44)\n",
            "Requirement already satisfied: pydeck<1,>=0.8.0b4 in /usr/local/lib/python3.11/dist-packages (from streamlit) (0.9.1)\n",
            "Requirement already satisfied: tornado<7,>=6.0.3 in /usr/local/lib/python3.11/dist-packages (from streamlit) (6.4.2)\n",
            "Requirement already satisfied: jinja2 in /usr/local/lib/python3.11/dist-packages (from altair<6,>=4.0->streamlit) (3.1.6)\n",
            "Requirement already satisfied: jsonschema>=3.0 in /usr/local/lib/python3.11/dist-packages (from altair<6,>=4.0->streamlit) (4.23.0)\n",
            "Requirement already satisfied: narwhals>=1.14.2 in /usr/local/lib/python3.11/dist-packages (from altair<6,>=4.0->streamlit) (1.40.0)\n",
            "Requirement already satisfied: gitdb<5,>=4.0.1 in /usr/local/lib/python3.11/dist-packages (from gitpython!=3.1.19,<4,>=3.0.7->streamlit) (4.0.12)\n",
            "Requirement already satisfied: python-dateutil>=2.8.2 in /usr/local/lib/python3.11/dist-packages (from pandas<3,>=1.4.0->streamlit) (2.9.0.post0)\n",
            "Requirement already satisfied: pytz>=2020.1 in /usr/local/lib/python3.11/dist-packages (from pandas<3,>=1.4.0->streamlit) (2025.2)\n",
            "Requirement already satisfied: tzdata>=2022.7 in /usr/local/lib/python3.11/dist-packages (from pandas<3,>=1.4.0->streamlit) (2025.2)\n",
            "Requirement already satisfied: charset-normalizer<4,>=2 in /usr/local/lib/python3.11/dist-packages (from requests<3,>=2.27->streamlit) (3.4.2)\n",
            "Requirement already satisfied: idna<4,>=2.5 in /usr/local/lib/python3.11/dist-packages (from requests<3,>=2.27->streamlit) (3.10)\n",
            "Requirement already satisfied: urllib3<3,>=1.21.1 in /usr/local/lib/python3.11/dist-packages (from requests<3,>=2.27->streamlit) (2.4.0)\n",
            "Requirement already satisfied: certifi>=2017.4.17 in /usr/local/lib/python3.11/dist-packages (from requests<3,>=2.27->streamlit) (2025.4.26)\n",
            "Requirement already satisfied: smmap<6,>=3.0.1 in /usr/local/lib/python3.11/dist-packages (from gitdb<5,>=4.0.1->gitpython!=3.1.19,<4,>=3.0.7->streamlit) (5.0.2)\n",
            "Requirement already satisfied: MarkupSafe>=2.0 in /usr/local/lib/python3.11/dist-packages (from jinja2->altair<6,>=4.0->streamlit) (3.0.2)\n",
            "Requirement already satisfied: attrs>=22.2.0 in /usr/local/lib/python3.11/dist-packages (from jsonschema>=3.0->altair<6,>=4.0->streamlit) (25.3.0)\n",
            "Requirement already satisfied: jsonschema-specifications>=2023.03.6 in /usr/local/lib/python3.11/dist-packages (from jsonschema>=3.0->altair<6,>=4.0->streamlit) (2025.4.1)\n",
            "Requirement already satisfied: referencing>=0.28.4 in /usr/local/lib/python3.11/dist-packages (from jsonschema>=3.0->altair<6,>=4.0->streamlit) (0.36.2)\n",
            "Requirement already satisfied: rpds-py>=0.7.1 in /usr/local/lib/python3.11/dist-packages (from jsonschema>=3.0->altair<6,>=4.0->streamlit) (0.25.1)\n",
            "Requirement already satisfied: six>=1.5 in /usr/local/lib/python3.11/dist-packages (from python-dateutil>=2.8.2->pandas<3,>=1.4.0->streamlit) (1.17.0)\n"
          ]
        }
      ]
    },
    {
      "cell_type": "code",
      "source": [
        "import os\n",
        "import logging\n",
        "import streamlit as st\n",
        "import time\n",
        "import soundfile as sf\n"
      ],
      "metadata": {
        "id": "ElA_h4qEX9ZY"
      },
      "execution_count": 59,
      "outputs": []
    },
    {
      "cell_type": "code",
      "source": [
        "pip install kokoro"
      ],
      "metadata": {
        "colab": {
          "base_uri": "https://localhost:8080/"
        },
        "id": "E4ijdj51_81Z",
        "outputId": "3f514637-8a09-4f84-fa62-57e0b38a5dc3"
      },
      "execution_count": 60,
      "outputs": [
        {
          "output_type": "stream",
          "name": "stdout",
          "text": [
            "Requirement already satisfied: kokoro in /usr/local/lib/python3.11/dist-packages (0.9.4)\n",
            "Requirement already satisfied: huggingface-hub in /usr/local/lib/python3.11/dist-packages (from kokoro) (0.31.4)\n",
            "Requirement already satisfied: loguru in /usr/local/lib/python3.11/dist-packages (from kokoro) (0.7.3)\n",
            "Requirement already satisfied: misaki>=0.9.4 in /usr/local/lib/python3.11/dist-packages (from misaki[en]>=0.9.4->kokoro) (0.9.4)\n",
            "Requirement already satisfied: numpy in /usr/local/lib/python3.11/dist-packages (from kokoro) (2.0.2)\n",
            "Requirement already satisfied: torch in /usr/local/lib/python3.11/dist-packages (from kokoro) (2.6.0+cu124)\n",
            "Requirement already satisfied: transformers in /usr/local/lib/python3.11/dist-packages (from kokoro) (4.52.2)\n",
            "Requirement already satisfied: addict in /usr/local/lib/python3.11/dist-packages (from misaki>=0.9.4->misaki[en]>=0.9.4->kokoro) (2.4.0)\n",
            "Requirement already satisfied: regex in /usr/local/lib/python3.11/dist-packages (from misaki>=0.9.4->misaki[en]>=0.9.4->kokoro) (2024.11.6)\n",
            "Requirement already satisfied: espeakng-loader in /usr/local/lib/python3.11/dist-packages (from misaki[en]>=0.9.4->kokoro) (0.2.4)\n",
            "Requirement already satisfied: num2words in /usr/local/lib/python3.11/dist-packages (from misaki[en]>=0.9.4->kokoro) (0.5.14)\n",
            "Requirement already satisfied: phonemizer-fork in /usr/local/lib/python3.11/dist-packages (from misaki[en]>=0.9.4->kokoro) (3.3.2)\n",
            "Requirement already satisfied: spacy in /usr/local/lib/python3.11/dist-packages (from misaki[en]>=0.9.4->kokoro) (3.8.6)\n",
            "Requirement already satisfied: spacy-curated-transformers in /usr/local/lib/python3.11/dist-packages (from misaki[en]>=0.9.4->kokoro) (0.3.1)\n",
            "Requirement already satisfied: filelock in /usr/local/lib/python3.11/dist-packages (from huggingface-hub->kokoro) (3.18.0)\n",
            "Requirement already satisfied: fsspec>=2023.5.0 in /usr/local/lib/python3.11/dist-packages (from huggingface-hub->kokoro) (2025.3.2)\n",
            "Requirement already satisfied: packaging>=20.9 in /usr/local/lib/python3.11/dist-packages (from huggingface-hub->kokoro) (24.2)\n",
            "Requirement already satisfied: pyyaml>=5.1 in /usr/local/lib/python3.11/dist-packages (from huggingface-hub->kokoro) (6.0.2)\n",
            "Requirement already satisfied: requests in /usr/local/lib/python3.11/dist-packages (from huggingface-hub->kokoro) (2.32.3)\n",
            "Requirement already satisfied: tqdm>=4.42.1 in /usr/local/lib/python3.11/dist-packages (from huggingface-hub->kokoro) (4.67.1)\n",
            "Requirement already satisfied: typing-extensions>=3.7.4.3 in /usr/local/lib/python3.11/dist-packages (from huggingface-hub->kokoro) (4.13.2)\n",
            "Requirement already satisfied: networkx in /usr/local/lib/python3.11/dist-packages (from torch->kokoro) (3.4.2)\n",
            "Requirement already satisfied: jinja2 in /usr/local/lib/python3.11/dist-packages (from torch->kokoro) (3.1.6)\n",
            "Requirement already satisfied: nvidia-cuda-nvrtc-cu12==12.4.127 in /usr/local/lib/python3.11/dist-packages (from torch->kokoro) (12.4.127)\n",
            "Requirement already satisfied: nvidia-cuda-runtime-cu12==12.4.127 in /usr/local/lib/python3.11/dist-packages (from torch->kokoro) (12.4.127)\n",
            "Requirement already satisfied: nvidia-cuda-cupti-cu12==12.4.127 in /usr/local/lib/python3.11/dist-packages (from torch->kokoro) (12.4.127)\n",
            "Requirement already satisfied: nvidia-cudnn-cu12==9.1.0.70 in /usr/local/lib/python3.11/dist-packages (from torch->kokoro) (9.1.0.70)\n",
            "Requirement already satisfied: nvidia-cublas-cu12==12.4.5.8 in /usr/local/lib/python3.11/dist-packages (from torch->kokoro) (12.4.5.8)\n",
            "Requirement already satisfied: nvidia-cufft-cu12==11.2.1.3 in /usr/local/lib/python3.11/dist-packages (from torch->kokoro) (11.2.1.3)\n",
            "Requirement already satisfied: nvidia-curand-cu12==10.3.5.147 in /usr/local/lib/python3.11/dist-packages (from torch->kokoro) (10.3.5.147)\n",
            "Requirement already satisfied: nvidia-cusolver-cu12==11.6.1.9 in /usr/local/lib/python3.11/dist-packages (from torch->kokoro) (11.6.1.9)\n",
            "Requirement already satisfied: nvidia-cusparse-cu12==12.3.1.170 in /usr/local/lib/python3.11/dist-packages (from torch->kokoro) (12.3.1.170)\n",
            "Requirement already satisfied: nvidia-cusparselt-cu12==0.6.2 in /usr/local/lib/python3.11/dist-packages (from torch->kokoro) (0.6.2)\n",
            "Requirement already satisfied: nvidia-nccl-cu12==2.21.5 in /usr/local/lib/python3.11/dist-packages (from torch->kokoro) (2.21.5)\n",
            "Requirement already satisfied: nvidia-nvtx-cu12==12.4.127 in /usr/local/lib/python3.11/dist-packages (from torch->kokoro) (12.4.127)\n",
            "Requirement already satisfied: nvidia-nvjitlink-cu12==12.4.127 in /usr/local/lib/python3.11/dist-packages (from torch->kokoro) (12.4.127)\n",
            "Requirement already satisfied: triton==3.2.0 in /usr/local/lib/python3.11/dist-packages (from torch->kokoro) (3.2.0)\n",
            "Requirement already satisfied: sympy==1.13.1 in /usr/local/lib/python3.11/dist-packages (from torch->kokoro) (1.13.1)\n",
            "Requirement already satisfied: mpmath<1.4,>=1.1.0 in /usr/local/lib/python3.11/dist-packages (from sympy==1.13.1->torch->kokoro) (1.3.0)\n",
            "Requirement already satisfied: tokenizers<0.22,>=0.21 in /usr/local/lib/python3.11/dist-packages (from transformers->kokoro) (0.21.1)\n",
            "Requirement already satisfied: safetensors>=0.4.3 in /usr/local/lib/python3.11/dist-packages (from transformers->kokoro) (0.5.3)\n",
            "Requirement already satisfied: MarkupSafe>=2.0 in /usr/local/lib/python3.11/dist-packages (from jinja2->torch->kokoro) (3.0.2)\n",
            "Requirement already satisfied: docopt>=0.6.2 in /usr/local/lib/python3.11/dist-packages (from num2words->misaki[en]>=0.9.4->kokoro) (0.6.2)\n",
            "Requirement already satisfied: attrs>=18.1 in /usr/local/lib/python3.11/dist-packages (from phonemizer-fork->misaki[en]>=0.9.4->kokoro) (25.3.0)\n",
            "Requirement already satisfied: dlinfo in /usr/local/lib/python3.11/dist-packages (from phonemizer-fork->misaki[en]>=0.9.4->kokoro) (2.0.0)\n",
            "Requirement already satisfied: joblib in /usr/local/lib/python3.11/dist-packages (from phonemizer-fork->misaki[en]>=0.9.4->kokoro) (1.5.0)\n",
            "Requirement already satisfied: segments in /usr/local/lib/python3.11/dist-packages (from phonemizer-fork->misaki[en]>=0.9.4->kokoro) (2.3.0)\n",
            "Requirement already satisfied: charset-normalizer<4,>=2 in /usr/local/lib/python3.11/dist-packages (from requests->huggingface-hub->kokoro) (3.4.2)\n",
            "Requirement already satisfied: idna<4,>=2.5 in /usr/local/lib/python3.11/dist-packages (from requests->huggingface-hub->kokoro) (3.10)\n",
            "Requirement already satisfied: urllib3<3,>=1.21.1 in /usr/local/lib/python3.11/dist-packages (from requests->huggingface-hub->kokoro) (2.4.0)\n",
            "Requirement already satisfied: certifi>=2017.4.17 in /usr/local/lib/python3.11/dist-packages (from requests->huggingface-hub->kokoro) (2025.4.26)\n",
            "Requirement already satisfied: spacy-legacy<3.1.0,>=3.0.11 in /usr/local/lib/python3.11/dist-packages (from spacy->misaki[en]>=0.9.4->kokoro) (3.0.12)\n",
            "Requirement already satisfied: spacy-loggers<2.0.0,>=1.0.0 in /usr/local/lib/python3.11/dist-packages (from spacy->misaki[en]>=0.9.4->kokoro) (1.0.5)\n",
            "Requirement already satisfied: murmurhash<1.1.0,>=0.28.0 in /usr/local/lib/python3.11/dist-packages (from spacy->misaki[en]>=0.9.4->kokoro) (1.0.12)\n",
            "Requirement already satisfied: cymem<2.1.0,>=2.0.2 in /usr/local/lib/python3.11/dist-packages (from spacy->misaki[en]>=0.9.4->kokoro) (2.0.11)\n",
            "Requirement already satisfied: preshed<3.1.0,>=3.0.2 in /usr/local/lib/python3.11/dist-packages (from spacy->misaki[en]>=0.9.4->kokoro) (3.0.9)\n",
            "Requirement already satisfied: thinc<8.4.0,>=8.3.4 in /usr/local/lib/python3.11/dist-packages (from spacy->misaki[en]>=0.9.4->kokoro) (8.3.6)\n",
            "Requirement already satisfied: wasabi<1.2.0,>=0.9.1 in /usr/local/lib/python3.11/dist-packages (from spacy->misaki[en]>=0.9.4->kokoro) (1.1.3)\n",
            "Requirement already satisfied: srsly<3.0.0,>=2.4.3 in /usr/local/lib/python3.11/dist-packages (from spacy->misaki[en]>=0.9.4->kokoro) (2.5.1)\n",
            "Requirement already satisfied: catalogue<2.1.0,>=2.0.6 in /usr/local/lib/python3.11/dist-packages (from spacy->misaki[en]>=0.9.4->kokoro) (2.0.10)\n",
            "Requirement already satisfied: weasel<0.5.0,>=0.1.0 in /usr/local/lib/python3.11/dist-packages (from spacy->misaki[en]>=0.9.4->kokoro) (0.4.1)\n",
            "Requirement already satisfied: typer<1.0.0,>=0.3.0 in /usr/local/lib/python3.11/dist-packages (from spacy->misaki[en]>=0.9.4->kokoro) (0.15.3)\n",
            "Requirement already satisfied: pydantic!=1.8,!=1.8.1,<3.0.0,>=1.7.4 in /usr/local/lib/python3.11/dist-packages (from spacy->misaki[en]>=0.9.4->kokoro) (2.11.4)\n",
            "Requirement already satisfied: setuptools in /usr/local/lib/python3.11/dist-packages (from spacy->misaki[en]>=0.9.4->kokoro) (75.2.0)\n",
            "Requirement already satisfied: langcodes<4.0.0,>=3.2.0 in /usr/local/lib/python3.11/dist-packages (from spacy->misaki[en]>=0.9.4->kokoro) (3.5.0)\n",
            "Requirement already satisfied: curated-transformers<0.2.0,>=0.1.0 in /usr/local/lib/python3.11/dist-packages (from spacy-curated-transformers->misaki[en]>=0.9.4->kokoro) (0.1.1)\n",
            "Requirement already satisfied: curated-tokenizers<0.1.0,>=0.0.9 in /usr/local/lib/python3.11/dist-packages (from spacy-curated-transformers->misaki[en]>=0.9.4->kokoro) (0.0.9)\n",
            "Requirement already satisfied: language-data>=1.2 in /usr/local/lib/python3.11/dist-packages (from langcodes<4.0.0,>=3.2.0->spacy->misaki[en]>=0.9.4->kokoro) (1.3.0)\n",
            "Requirement already satisfied: annotated-types>=0.6.0 in /usr/local/lib/python3.11/dist-packages (from pydantic!=1.8,!=1.8.1,<3.0.0,>=1.7.4->spacy->misaki[en]>=0.9.4->kokoro) (0.7.0)\n",
            "Requirement already satisfied: pydantic-core==2.33.2 in /usr/local/lib/python3.11/dist-packages (from pydantic!=1.8,!=1.8.1,<3.0.0,>=1.7.4->spacy->misaki[en]>=0.9.4->kokoro) (2.33.2)\n",
            "Requirement already satisfied: typing-inspection>=0.4.0 in /usr/local/lib/python3.11/dist-packages (from pydantic!=1.8,!=1.8.1,<3.0.0,>=1.7.4->spacy->misaki[en]>=0.9.4->kokoro) (0.4.1)\n",
            "Requirement already satisfied: blis<1.4.0,>=1.3.0 in /usr/local/lib/python3.11/dist-packages (from thinc<8.4.0,>=8.3.4->spacy->misaki[en]>=0.9.4->kokoro) (1.3.0)\n",
            "Requirement already satisfied: confection<1.0.0,>=0.0.1 in /usr/local/lib/python3.11/dist-packages (from thinc<8.4.0,>=8.3.4->spacy->misaki[en]>=0.9.4->kokoro) (0.1.5)\n",
            "Requirement already satisfied: click>=8.0.0 in /usr/local/lib/python3.11/dist-packages (from typer<1.0.0,>=0.3.0->spacy->misaki[en]>=0.9.4->kokoro) (8.1.8)\n",
            "Requirement already satisfied: shellingham>=1.3.0 in /usr/local/lib/python3.11/dist-packages (from typer<1.0.0,>=0.3.0->spacy->misaki[en]>=0.9.4->kokoro) (1.5.4)\n",
            "Requirement already satisfied: rich>=10.11.0 in /usr/local/lib/python3.11/dist-packages (from typer<1.0.0,>=0.3.0->spacy->misaki[en]>=0.9.4->kokoro) (13.9.4)\n",
            "Requirement already satisfied: cloudpathlib<1.0.0,>=0.7.0 in /usr/local/lib/python3.11/dist-packages (from weasel<0.5.0,>=0.1.0->spacy->misaki[en]>=0.9.4->kokoro) (0.21.1)\n",
            "Requirement already satisfied: smart-open<8.0.0,>=5.2.1 in /usr/local/lib/python3.11/dist-packages (from weasel<0.5.0,>=0.1.0->spacy->misaki[en]>=0.9.4->kokoro) (7.1.0)\n",
            "Requirement already satisfied: csvw>=1.5.6 in /usr/local/lib/python3.11/dist-packages (from segments->phonemizer-fork->misaki[en]>=0.9.4->kokoro) (3.5.1)\n",
            "Requirement already satisfied: isodate in /usr/local/lib/python3.11/dist-packages (from csvw>=1.5.6->segments->phonemizer-fork->misaki[en]>=0.9.4->kokoro) (0.7.2)\n",
            "Requirement already satisfied: python-dateutil in /usr/local/lib/python3.11/dist-packages (from csvw>=1.5.6->segments->phonemizer-fork->misaki[en]>=0.9.4->kokoro) (2.9.0.post0)\n",
            "Requirement already satisfied: rfc3986<2 in /usr/local/lib/python3.11/dist-packages (from csvw>=1.5.6->segments->phonemizer-fork->misaki[en]>=0.9.4->kokoro) (1.5.0)\n",
            "Requirement already satisfied: uritemplate>=3.0.0 in /usr/local/lib/python3.11/dist-packages (from csvw>=1.5.6->segments->phonemizer-fork->misaki[en]>=0.9.4->kokoro) (4.1.1)\n",
            "Requirement already satisfied: babel in /usr/local/lib/python3.11/dist-packages (from csvw>=1.5.6->segments->phonemizer-fork->misaki[en]>=0.9.4->kokoro) (2.17.0)\n",
            "Requirement already satisfied: language-tags in /usr/local/lib/python3.11/dist-packages (from csvw>=1.5.6->segments->phonemizer-fork->misaki[en]>=0.9.4->kokoro) (1.2.0)\n",
            "Requirement already satisfied: rdflib in /usr/local/lib/python3.11/dist-packages (from csvw>=1.5.6->segments->phonemizer-fork->misaki[en]>=0.9.4->kokoro) (7.1.4)\n",
            "Requirement already satisfied: colorama in /usr/local/lib/python3.11/dist-packages (from csvw>=1.5.6->segments->phonemizer-fork->misaki[en]>=0.9.4->kokoro) (0.4.6)\n",
            "Requirement already satisfied: jsonschema in /usr/local/lib/python3.11/dist-packages (from csvw>=1.5.6->segments->phonemizer-fork->misaki[en]>=0.9.4->kokoro) (4.23.0)\n",
            "Requirement already satisfied: marisa-trie>=1.1.0 in /usr/local/lib/python3.11/dist-packages (from language-data>=1.2->langcodes<4.0.0,>=3.2.0->spacy->misaki[en]>=0.9.4->kokoro) (1.2.1)\n",
            "Requirement already satisfied: markdown-it-py>=2.2.0 in /usr/local/lib/python3.11/dist-packages (from rich>=10.11.0->typer<1.0.0,>=0.3.0->spacy->misaki[en]>=0.9.4->kokoro) (3.0.0)\n",
            "Requirement already satisfied: pygments<3.0.0,>=2.13.0 in /usr/local/lib/python3.11/dist-packages (from rich>=10.11.0->typer<1.0.0,>=0.3.0->spacy->misaki[en]>=0.9.4->kokoro) (2.19.1)\n",
            "Requirement already satisfied: wrapt in /usr/local/lib/python3.11/dist-packages (from smart-open<8.0.0,>=5.2.1->weasel<0.5.0,>=0.1.0->spacy->misaki[en]>=0.9.4->kokoro) (1.17.2)\n",
            "Requirement already satisfied: mdurl~=0.1 in /usr/local/lib/python3.11/dist-packages (from markdown-it-py>=2.2.0->rich>=10.11.0->typer<1.0.0,>=0.3.0->spacy->misaki[en]>=0.9.4->kokoro) (0.1.2)\n",
            "Requirement already satisfied: jsonschema-specifications>=2023.03.6 in /usr/local/lib/python3.11/dist-packages (from jsonschema->csvw>=1.5.6->segments->phonemizer-fork->misaki[en]>=0.9.4->kokoro) (2025.4.1)\n",
            "Requirement already satisfied: referencing>=0.28.4 in /usr/local/lib/python3.11/dist-packages (from jsonschema->csvw>=1.5.6->segments->phonemizer-fork->misaki[en]>=0.9.4->kokoro) (0.36.2)\n",
            "Requirement already satisfied: rpds-py>=0.7.1 in /usr/local/lib/python3.11/dist-packages (from jsonschema->csvw>=1.5.6->segments->phonemizer-fork->misaki[en]>=0.9.4->kokoro) (0.25.1)\n",
            "Requirement already satisfied: six>=1.5 in /usr/local/lib/python3.11/dist-packages (from python-dateutil->csvw>=1.5.6->segments->phonemizer-fork->misaki[en]>=0.9.4->kokoro) (1.17.0)\n",
            "Requirement already satisfied: pyparsing<4,>=2.1.0 in /usr/local/lib/python3.11/dist-packages (from rdflib->csvw>=1.5.6->segments->phonemizer-fork->misaki[en]>=0.9.4->kokoro) (3.2.3)\n"
          ]
        }
      ]
    },
    {
      "cell_type": "code",
      "source": [
        "pip install fasttext"
      ],
      "metadata": {
        "colab": {
          "base_uri": "https://localhost:8080/"
        },
        "id": "aHiuS-_jBWEH",
        "outputId": "b8d48c31-fc47-4217-fa9a-b53e73bfeae2"
      },
      "execution_count": 61,
      "outputs": [
        {
          "output_type": "stream",
          "name": "stdout",
          "text": [
            "Requirement already satisfied: fasttext in /usr/local/lib/python3.11/dist-packages (0.9.3)\n",
            "Requirement already satisfied: pybind11>=2.2 in /usr/local/lib/python3.11/dist-packages (from fasttext) (2.13.6)\n",
            "Requirement already satisfied: setuptools>=0.7.0 in /usr/local/lib/python3.11/dist-packages (from fasttext) (75.2.0)\n",
            "Requirement already satisfied: numpy in /usr/local/lib/python3.11/dist-packages (from fasttext) (2.0.2)\n"
          ]
        }
      ]
    },
    {
      "cell_type": "code",
      "source": [
        "pip install Groq\n"
      ],
      "metadata": {
        "colab": {
          "base_uri": "https://localhost:8080/"
        },
        "id": "IxeRHHhABbjl",
        "outputId": "0232beea-025a-4124-9fac-cb2fde3fa6c6"
      },
      "execution_count": 63,
      "outputs": [
        {
          "output_type": "stream",
          "name": "stdout",
          "text": [
            "Requirement already satisfied: Groq in /usr/local/lib/python3.11/dist-packages (0.26.0)\n",
            "Requirement already satisfied: anyio<5,>=3.5.0 in /usr/local/lib/python3.11/dist-packages (from Groq) (4.9.0)\n",
            "Requirement already satisfied: distro<2,>=1.7.0 in /usr/local/lib/python3.11/dist-packages (from Groq) (1.9.0)\n",
            "Requirement already satisfied: httpx<1,>=0.23.0 in /usr/local/lib/python3.11/dist-packages (from Groq) (0.28.1)\n",
            "Requirement already satisfied: pydantic<3,>=1.9.0 in /usr/local/lib/python3.11/dist-packages (from Groq) (2.11.4)\n",
            "Requirement already satisfied: sniffio in /usr/local/lib/python3.11/dist-packages (from Groq) (1.3.1)\n",
            "Requirement already satisfied: typing-extensions<5,>=4.10 in /usr/local/lib/python3.11/dist-packages (from Groq) (4.13.2)\n",
            "Requirement already satisfied: idna>=2.8 in /usr/local/lib/python3.11/dist-packages (from anyio<5,>=3.5.0->Groq) (3.10)\n",
            "Requirement already satisfied: certifi in /usr/local/lib/python3.11/dist-packages (from httpx<1,>=0.23.0->Groq) (2025.4.26)\n",
            "Requirement already satisfied: httpcore==1.* in /usr/local/lib/python3.11/dist-packages (from httpx<1,>=0.23.0->Groq) (1.0.9)\n",
            "Requirement already satisfied: h11>=0.16 in /usr/local/lib/python3.11/dist-packages (from httpcore==1.*->httpx<1,>=0.23.0->Groq) (0.16.0)\n",
            "Requirement already satisfied: annotated-types>=0.6.0 in /usr/local/lib/python3.11/dist-packages (from pydantic<3,>=1.9.0->Groq) (0.7.0)\n",
            "Requirement already satisfied: pydantic-core==2.33.2 in /usr/local/lib/python3.11/dist-packages (from pydantic<3,>=1.9.0->Groq) (2.33.2)\n",
            "Requirement already satisfied: typing-inspection>=0.4.0 in /usr/local/lib/python3.11/dist-packages (from pydantic<3,>=1.9.0->Groq) (0.4.1)\n"
          ]
        }
      ]
    },
    {
      "cell_type": "code",
      "source": [
        "pip install gTTS"
      ],
      "metadata": {
        "colab": {
          "base_uri": "https://localhost:8080/"
        },
        "id": "_kbRJG94CH3m",
        "outputId": "70bb582b-d415-4625-c9de-817d5d09451b"
      },
      "execution_count": 64,
      "outputs": [
        {
          "output_type": "stream",
          "name": "stdout",
          "text": [
            "Requirement already satisfied: gTTS in /usr/local/lib/python3.11/dist-packages (2.5.4)\n",
            "Requirement already satisfied: requests<3,>=2.27 in /usr/local/lib/python3.11/dist-packages (from gTTS) (2.32.3)\n",
            "Requirement already satisfied: click<8.2,>=7.1 in /usr/local/lib/python3.11/dist-packages (from gTTS) (8.1.8)\n",
            "Requirement already satisfied: charset-normalizer<4,>=2 in /usr/local/lib/python3.11/dist-packages (from requests<3,>=2.27->gTTS) (3.4.2)\n",
            "Requirement already satisfied: idna<4,>=2.5 in /usr/local/lib/python3.11/dist-packages (from requests<3,>=2.27->gTTS) (3.10)\n",
            "Requirement already satisfied: urllib3<3,>=1.21.1 in /usr/local/lib/python3.11/dist-packages (from requests<3,>=2.27->gTTS) (2.4.0)\n",
            "Requirement already satisfied: certifi>=2017.4.17 in /usr/local/lib/python3.11/dist-packages (from requests<3,>=2.27->gTTS) (2025.4.26)\n"
          ]
        }
      ]
    },
    {
      "cell_type": "code",
      "source": [
        "pip install googletrans"
      ],
      "metadata": {
        "colab": {
          "base_uri": "https://localhost:8080/"
        },
        "id": "BLnVgqHGCIfD",
        "outputId": "46b35e8c-e529-4a34-830f-9613af673ad0"
      },
      "execution_count": 65,
      "outputs": [
        {
          "output_type": "stream",
          "name": "stdout",
          "text": [
            "Requirement already satisfied: googletrans in /usr/local/lib/python3.11/dist-packages (4.0.2)\n",
            "Requirement already satisfied: httpx>=0.27.2 in /usr/local/lib/python3.11/dist-packages (from httpx[http2]>=0.27.2->googletrans) (0.28.1)\n",
            "Requirement already satisfied: anyio in /usr/local/lib/python3.11/dist-packages (from httpx>=0.27.2->httpx[http2]>=0.27.2->googletrans) (4.9.0)\n",
            "Requirement already satisfied: certifi in /usr/local/lib/python3.11/dist-packages (from httpx>=0.27.2->httpx[http2]>=0.27.2->googletrans) (2025.4.26)\n",
            "Requirement already satisfied: httpcore==1.* in /usr/local/lib/python3.11/dist-packages (from httpx>=0.27.2->httpx[http2]>=0.27.2->googletrans) (1.0.9)\n",
            "Requirement already satisfied: idna in /usr/local/lib/python3.11/dist-packages (from httpx>=0.27.2->httpx[http2]>=0.27.2->googletrans) (3.10)\n",
            "Requirement already satisfied: h11>=0.16 in /usr/local/lib/python3.11/dist-packages (from httpcore==1.*->httpx>=0.27.2->httpx[http2]>=0.27.2->googletrans) (0.16.0)\n",
            "Requirement already satisfied: h2<5,>=3 in /usr/local/lib/python3.11/dist-packages (from httpx[http2]>=0.27.2->googletrans) (4.2.0)\n",
            "Requirement already satisfied: hyperframe<7,>=6.1 in /usr/local/lib/python3.11/dist-packages (from h2<5,>=3->httpx[http2]>=0.27.2->googletrans) (6.1.0)\n",
            "Requirement already satisfied: hpack<5,>=4.1 in /usr/local/lib/python3.11/dist-packages (from h2<5,>=3->httpx[http2]>=0.27.2->googletrans) (4.1.0)\n",
            "Requirement already satisfied: sniffio>=1.1 in /usr/local/lib/python3.11/dist-packages (from anyio->httpx>=0.27.2->httpx[http2]>=0.27.2->googletrans) (1.3.1)\n",
            "Requirement already satisfied: typing_extensions>=4.5 in /usr/local/lib/python3.11/dist-packages (from anyio->httpx>=0.27.2->httpx[http2]>=0.27.2->googletrans) (4.13.2)\n"
          ]
        }
      ]
    },
    {
      "cell_type": "code",
      "source": [
        "import io"
      ],
      "metadata": {
        "id": "TnaAlBnFCSZ0"
      },
      "execution_count": 66,
      "outputs": []
    },
    {
      "cell_type": "code",
      "source": [
        "import os\n",
        "import logging\n",
        "import streamlit as st\n",
        "import time\n",
        "import soundfile as sf\n",
        "from kokoro import KPipeline\n",
        "import numpy as np\n",
        "import fasttext\n",
        "from groq import Groq\n",
        "from gtts import gTTS\n",
        "from googletrans import Translator, LANGUAGES\n",
        "import io"
      ],
      "metadata": {
        "id": "5n4uL-PGCfB_"
      },
      "execution_count": 67,
      "outputs": []
    },
    {
      "cell_type": "code",
      "source": [
        "logging.basicConfig(level=logging.INFO)\n"
      ],
      "metadata": {
        "id": "Xhpc_V6jC3m_"
      },
      "execution_count": 68,
      "outputs": []
    },
    {
      "cell_type": "code",
      "source": [
        "logger = logging.getLogger(__name__)"
      ],
      "metadata": {
        "id": "y49TZrEtEXWo"
      },
      "execution_count": 69,
      "outputs": []
    },
    {
      "cell_type": "code",
      "source": [
        "GROQ_API_KEY = \"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\""
      ],
      "metadata": {
        "id": "8i9PssEVHHn2"
      },
      "execution_count": 70,
      "outputs": []
    },
    {
      "cell_type": "code",
      "source": [
        "!wget https://dl.fbaipublicfiles.com/fasttext/supervised-models/lid.176.bin"
      ],
      "metadata": {
        "colab": {
          "base_uri": "https://localhost:8080/"
        },
        "id": "Bk37jZNpIGh2",
        "outputId": "f752e850-0909-4540-99c8-2dd153852aa7"
      },
      "execution_count": 71,
      "outputs": [
        {
          "output_type": "stream",
          "name": "stdout",
          "text": [
            "--2025-05-30 08:13:28--  https://dl.fbaipublicfiles.com/fasttext/supervised-models/lid.176.bin\n",
            "Resolving dl.fbaipublicfiles.com (dl.fbaipublicfiles.com)... 3.163.189.108, 3.163.189.14, 3.163.189.96, ...\n",
            "Connecting to dl.fbaipublicfiles.com (dl.fbaipublicfiles.com)|3.163.189.108|:443... connected.\n",
            "HTTP request sent, awaiting response... 200 OK\n",
            "Length: 131266198 (125M) [application/octet-stream]\n",
            "Saving to: ‘lid.176.bin.1’\n",
            "\n",
            "lid.176.bin.1       100%[===================>] 125.18M   114MB/s    in 1.1s    \n",
            "\n",
            "2025-05-30 08:13:30 (114 MB/s) - ‘lid.176.bin.1’ saved [131266198/131266198]\n",
            "\n"
          ]
        }
      ]
    },
    {
      "cell_type": "code",
      "source": [
        "try:\n",
        "    lang_model = fasttext.load_model(\"lid.176.bin\")\n",
        "except Exception as e:\n",
        "    logger.error(f\"Failed to load fasttext model: {e}\")\n",
        "    lang_model = None"
      ],
      "metadata": {
        "id": "ars_ja5aHQ0q"
      },
      "execution_count": 72,
      "outputs": []
    },
    {
      "cell_type": "code",
      "source": [
        "BANKING_INFO = {\n",
        "    \"savings account\": \"To open a savings account, you need to provide ID proof, address proof, and fill out an application form. Visit your nearest branch or apply online.\",\n",
        "    \"loan\": \"To apply for a personal loan, submit income proof, credit history, and ID documents. Interest rates start at 5% per annum.\",\n",
        "    \"credit card\": \"Our credit cards offer cashback, reward points, and no annual fees for the first year.\",\n",
        "    \"online banking\": \"Access your account 24/7, transfer funds, pay bills, and check balances through our secure portal.\",\n",
        "    \"kyc\": \"To complete KYC, submit a valid ID proof (e.g., passport, driver's license), address proof (e.g., utility bill), and a recent photograph. You can do this online or at a branch.\",\n",
        "    \"upi\": \"To activate UPI (Unified Payments Interface), follow these steps:\\n1. Install a UPI-supported app on your smartphone, such as BHIM, Google Pay, PhonePe, or Paytm.\\n2. Register using your bank account number and IFSC code, and complete the KYC process.\\n3. Set a UPI PIN by following the instructions within the app. The PIN will be required for all transactions.\\n4. Once the registration and KYC processes are complete, your UPI ID will be generated using your mobile number in the format [yourmobilenumber]@upi. Your UPI account is now active, and you can start making payments and receiving money.\\nFor specific instructions, please refer to the user manual or customer support of the UPI app you have chosen. If you have any trouble, feel free to ask for further assistance.\"\n",
        "}"
      ],
      "metadata": {
        "id": "kAI1eZ4NHTgu"
      },
      "execution_count": 73,
      "outputs": []
    },
    {
      "cell_type": "code",
      "source": [
        "KOKORO_LANGUAGES = {\"en\": \"en_heart\", \"fr\": \"fr_heart\", \"es\": \"es_heart\"}\n",
        "GTTS_LANGUAGES = {\"ta\": \"ta\", \"te\": \"te\", \"hi\": \"hi\"}"
      ],
      "metadata": {
        "id": "apsPlrobIgLD"
      },
      "execution_count": 74,
      "outputs": []
    },
    {
      "cell_type": "code",
      "source": [
        "translator = Translator()"
      ],
      "metadata": {
        "id": "5RgmcXtGIlyW"
      },
      "execution_count": 75,
      "outputs": []
    },
    {
      "cell_type": "code",
      "source": [
        "def detect_language(text):\n",
        "    if not lang_model:\n",
        "        logger.warning(\"Fasttext model not loaded. Assuming English.\")\n",
        "        return \"en\"\n",
        "    try:\n",
        "        prediction = lang_model.predict(text)\n",
        "        lang = prediction[0][0].split(\"_label\")[1].split(\"\")[0]\n",
        "        confidence = prediction[1][0]\n",
        "        logger.info(f\"Detected language: {lang} (confidence: {confidence:.2f})\")\n",
        "        return lang\n",
        "    except Exception as e:\n",
        "        logger.error(f\"Language detection failed: {e}\")\n",
        "        return \"en\""
      ],
      "metadata": {
        "id": "nEjaMgMyIpiw"
      },
      "execution_count": 76,
      "outputs": []
    },
    {
      "cell_type": "code",
      "source": [
        "def translate_text(text, src_lang, dest_lang):\n",
        "    try:\n",
        "        max_chunk_length = 500  # Avoid googletrans length limits\n",
        "        chunks = [text[i:i + max_chunk_length] for i in range(0, len(text), max_chunk_length)]\n",
        "        translated_chunks = []\n",
        "        for chunk in chunks:\n",
        "            translated = translator.translate(chunk, src=src_lang, dest=dest_lang)\n",
        "            translated_chunks.append(translated.text)\n",
        "            time.sleep(1)  # Avoid rate limits\n",
        "        translated_text = \"\".join(translated_chunks)\n",
        "        logger.info(f\"Translated from {src_lang} to {dest_lang}: {translated_text[:50]}...\")\n",
        "        return translated_text\n",
        "    except Exception as e:\n",
        "        logger.error(f\"Translation error from {src_lang} to {dest_lang}: {e}\")\n",
        "        return text"
      ],
      "metadata": {
        "id": "VA9--kCYI0Zs"
      },
      "execution_count": 77,
      "outputs": []
    },
    {
      "cell_type": "code",
      "source": [
        "def find_relevant_info(query):\n",
        "    query = query.lower()\n",
        "    query_words = query.split()\n",
        "    for key, value in BANKING_INFO.items():\n",
        "        if key in query:  # Exact match\n",
        "            logger.info(f\"Found exact match for key: {key}\")\n",
        "            return value\n",
        "        # Partial match: check if any query word matches the key\n",
        "        for word in query_words:\n",
        "            if word in key:\n",
        "                logger.info(f\"Found partial match for key: {key} with word: {word}\")\n",
        "                return value\n",
        "    logger.warning(\"No relevant info found in knowledge base.\")\n",
        "    return None"
      ],
      "metadata": {
        "id": "bL_jOFf1I3sr"
      },
      "execution_count": 78,
      "outputs": []
    },
    {
      "cell_type": "code",
      "source": [
        "def query_llm(prompt):\n",
        "    logger.info(\"Attempting to use Groq API with LLaMA model\")\n",
        "    try:\n",
        "        client = Groq(api_key=GROQ_API_KEY)\n",
        "        response = client.chat.completions.create(\n",
        "            model=\"mistral-saba-24b\",\n",
        "            messages=[\n",
        "                {\"role\": \"system\", \"content\": \"You are a friendly and helpful banking assistant.\"},\n",
        "                {\"role\": \"user\", \"content\": prompt}\n",
        "            ],\n",
        "            max_tokens=1000,  # Increased to handle longer responses\n",
        "            temperature=0.7\n",
        "        )\n",
        "        generated_text = response.choices[0].message.content.strip()\n",
        "        logger.info(f\"Groq API response: {generated_text}\")\n",
        "        return generated_text\n",
        "    except Exception as e:\n",
        "        logger.error(f\"Groq API error: {e}\")\n",
        "        logger.warning(\"Falling back to default response\")\n",
        "        return None"
      ],
      "metadata": {
        "id": "IUZXOE6vI6Gx"
      },
      "execution_count": 79,
      "outputs": []
    },
    {
      "cell_type": "code",
      "source": [
        "def generate_kokoro_speech(text, lang_code, voice):\n",
        "    logger.info(f\"Generating speech with Kokoro-82M for text: {text[:50]}... (lang: {lang_code})\")\n",
        "    try:\n",
        "        pipeline = KPipeline(lang_code=lang_code)\n",
        "        generator = pipeline(text, voice=voice)\n",
        "        audio_chunks = []\n",
        "        for i, (gs, ps, audio) in enumerate(generator):\n",
        "            logger.info(f\"Processing audio chunk {i}: gs={gs}, ps={ps}, audio_shape={audio.shape}\")\n",
        "            audio_chunks.append(audio)\n",
        "        if not audio_chunks:\n",
        "            logger.warning(\"No audio chunks generated by Kokoro-82M\")\n",
        "            return None\n",
        "        full_audio = np.concatenate(audio_chunks, axis=0)\n",
        "        temp_audio_path = \"temp_audio.wav\"\n",
        "        sf.write(temp_audio_path, full_audio, 24000)\n",
        "        with open(temp_audio_path, \"rb\") as f:\n",
        "            audio_bytes = f.read()\n",
        "        os.remove(temp_audio_path)\n",
        "        logger.info(f\"Kokoro-82M audio generation successful, size: {len(audio_bytes)} bytes\")\n",
        "        return audio_bytes\n",
        "    except Exception as e:\n",
        "        logger.error(f\"Kokoro-82M TTS error: {e}\")\n",
        "        return None"
      ],
      "metadata": {
        "id": "6gSema9gI9Op"
      },
      "execution_count": 80,
      "outputs": []
    },
    {
      "cell_type": "code",
      "source": [
        "def generate_gtts_speech(text, lang_code):\n",
        "    logger.info(f\"Generating speech with gTTS for text: {text[:50]}... (lang: {lang_code})\")\n",
        "    try:\n",
        "        tts = gTTS(text=text, lang=lang_code, slow=False)\n",
        "        temp_audio_path = \"temp_audio.mp3\"\n",
        "        tts.save(temp_audio_path)\n",
        "        with open(temp_audio_path, \"rb\") as f:\n",
        "            audio_bytes = f.read()\n",
        "        os.remove(temp_audio_path)\n",
        "        logger.info(f\"gTTS audio generation successful, size: {len(audio_bytes)} bytes\")\n",
        "        return audio_bytes\n",
        "    except Exception as e:\n",
        "        logger.error(f\"gTTS error: {e}\")\n",
        "        return None"
      ],
      "metadata": {
        "id": "ZE5M4Z4zJAMG"
      },
      "execution_count": 81,
      "outputs": []
    },
    {
      "cell_type": "code",
      "source": [
        "def generate_speech(text, lang):\n",
        "    if not text:\n",
        "        logger.error(\"Empty text provided to speech generator\")\n",
        "        return None\n",
        "    if lang in KOKORO_LANGUAGES:\n",
        "        return generate_kokoro_speech(text, lang_code=lang, voice=KOKORO_LANGUAGES[lang])\n",
        "    elif lang in GTTS_LANGUAGES:\n",
        "        return generate_gtts_speech(text, lang_code=GTTS_LANGUAGES[lang])\n",
        "    else:\n",
        "        logger.warning(f\"Language {lang} not supported for TTS, defaulting to English (Kokoro)\")\n",
        "        return generate_kokoro_speech(text, lang_code=\"en\", voice=\"en_heart\")"
      ],
      "metadata": {
        "id": "Sj5ppW_KJHyJ"
      },
      "execution_count": 82,
      "outputs": []
    },
    {
      "cell_type": "code",
      "source": [
        "def banking_chatbot(query):\n",
        "    logger.info(f\"Processing query: {query}\")\n",
        "\n",
        "    # Detect language\n",
        "    lang = detect_language(query)\n",
        "    logger.info(f\"Detected language: {lang}\")\n",
        "\n",
        "    # If language is not supported, return a message in English\n",
        "    if lang not in KOKORO_LANGUAGES and lang not in GTTS_LANGUAGES:\n",
        "        text_response = \"Hi! I currently support English, French, Spanish, Tamil, Telugu, and Hindi. Please ask your question in one of these languages.\"\n",
        "        audio = generate_speech(text_response, \"en\")\n",
        "        return text_response, audio\n",
        "\n",
        "    # Translate query to English if not already in English\n",
        "    query_in_english = query\n",
        "    if lang != \"en\":\n",
        "        query_in_english = translate_text(query, src_lang=lang, dest_lang=\"en\")\n",
        "        logger.info(f\"Translated query to English: {query_in_english}\")\n",
        "\n",
        "    # Find relevant banking information\n",
        "    relevant_info = find_relevant_info(query_in_english)\n",
        "    logger.info(f\"Relevant info found: {relevant_info}\")\n",
        "\n",
        "    # Prepare prompt for LLM\n",
        "    if relevant_info:\n",
        "        context = f\"Relevant information: {relevant_info}\"\n",
        "    else:\n",
        "        context = \"You are a banking assistant. Answer the question to the best of your ability.\"\n",
        "\n",
        "    prompt = (\n",
        "        f\"<s>[INST] You are a friendly and helpful banking assistant.\\n\"\n",
        "        f\"{context}\\n\\nUser query: {query_in_english}\\n\"\n",
        "        f\"Provide a helpful, concise response.[/INST]\"\n",
        "    )\n",
        "    text_response = query_llm(prompt)\n",
        "    logger.info(f\"LLM response (English): {text_response}\")\n",
        "     # Fallback responses\n",
        "    if not text_response:\n",
        "        if query_in_english.lower() == \"hi\":\n",
        "            text_response = \"Hello! How can I assist you with your banking needs today?\"\n",
        "        elif relevant_info:\n",
        "            text_response = relevant_info\n",
        "        else:\n",
        "            text_response = \"I'm sorry, I'm having trouble connecting to my knowledge base right now. Please try again in a moment or check available models at https://console.groq.com.\"\n",
        "\n",
        "    if not text_response.startswith(\"Hi\") and not text_response.startswith(\"Hello\"):\n",
        "        text_response = f\"Hi! {text_response}\"\n",
        "\n",
        "    # Translate response back to original language if not English\n",
        "    if lang != \"en\":\n",
        "        text_response = translate_text(text_response, src_lang=\"en\", dest_lang=lang)\n",
        "        logger.info(f\"Translated response to {lang}: {text_response}\")\n",
        "\n",
        "    logger.info(f\"Final response: {text_response}\")\n",
        "\n",
        "    audio = generate_speech(text_response, lang)\n",
        "\n",
        "    if not audio or len(audio) < 100:\n",
        "        logger.warning(\"TTS failed or returned minimal data, returning text response only\")\n",
        "\n",
        "    return text_response, audio\n"
      ],
      "metadata": {
        "id": "tB8HVESKJS4W"
      },
      "execution_count": 83,
      "outputs": []
    },
    {
      "cell_type": "code",
      "source": [
        "# Streamlit UI with improved rendering\n",
        "def main():\n",
        "    st.set_page_config(page_title=\"Friendly Banking Chatbot\", page_icon=\"💬\")\n",
        "    st.title(\"Banking Chatbot\")\n",
        "    st.markdown(\"Ask me anything about banking in English, French, Spanish, Tamil, Telugu, or Hindi!\")\n",
        "\n",
        "    if \"messages\" not in st.session_state:\n",
        "        st.session_state.messages = []\n",
        "\n",
        "    for msg in st.session_state.messages:\n",
        "        with st.chat_message(msg[\"role\"]):\n",
        "            # Ensure full text is visible with scrollable container\n",
        "            st.markdown(\n",
        "                f'<div style=\"max-height: 200px; overflow-y: auto;\">{msg[\"content\"]}</div>',\n",
        "                unsafe_allow_html=True\n",
        "            )\n",
        "            if msg[\"role\"] == \"assistant\" and \"audio\" in msg and msg[\"audio\"]:\n",
        "                st.audio(msg[\"audio\"], format=\"audio/wav\" if msg[\"lang\"] in KOKORO_LANGUAGES else \"audio/mp3\")\n",
        "\n",
        "    query = st.chat_input(\"Type your banking question here...\")\n",
        "    if query:\n",
        "        st.session_state.messages.append({\"role\": \"user\", \"content\": query})\n",
        "        with st.chat_message(\"user\"):\n",
        "            st.markdown(\n",
        "                f'<div style=\"max-height: 200px; overflow-y: auto;\">{query}</div>',\n",
        "                unsafe_allow_html=True\n",
        "            )\n",
        "\n",
        "        with st.spinner(\"Thinking...\"):\n",
        "            response, audio = banking_chatbot(query)\n",
        "            lang = detect_language(query)\n",
        "\n",
        "        st.session_state.messages.append({\"role\": \"assistant\", \"content\": response, \"audio\": audio, \"lang\": lang})\n",
        "\n",
        "        with st.chat_message(\"assistant\"):\n",
        "            st.markdown(\n",
        "                f'<div style=\"max-height: 200px; overflow-y: auto;\">{response}</div>',\n",
        "                unsafe_allow_html=True\n",
        "            )\n",
        "            if audio:\n",
        "                audio_format = \"audio/wav\" if lang in KOKORO_LANGUAGES else \"audio/mp3\"\n",
        "                st.audio(audio, format=audio_format)\n",
        "            else:\n",
        "                st.warning(\"Audio generation failed, but here's the text response.\")\n",
        "\n",
        "if __name__== \"_main_\":\n",
        "    main()"
      ],
      "metadata": {
        "id": "8-MZ3kLrJafM"
      },
      "execution_count": 84,
      "outputs": []
    },
    {
      "cell_type": "code",
      "source": [
        "pip install faiss-cpu sentence-transformers"
      ],
      "metadata": {
        "colab": {
          "base_uri": "https://localhost:8080/"
        },
        "id": "O-7K1XU4J7Wi",
        "outputId": "3ff6c2d9-cf92-4196-a3fa-3575714209f4"
      },
      "execution_count": 85,
      "outputs": [
        {
          "output_type": "stream",
          "name": "stdout",
          "text": [
            "Requirement already satisfied: faiss-cpu in /usr/local/lib/python3.11/dist-packages (1.11.0)\n",
            "Requirement already satisfied: sentence-transformers in /usr/local/lib/python3.11/dist-packages (4.1.0)\n",
            "Requirement already satisfied: numpy<3.0,>=1.25.0 in /usr/local/lib/python3.11/dist-packages (from faiss-cpu) (2.0.2)\n",
            "Requirement already satisfied: packaging in /usr/local/lib/python3.11/dist-packages (from faiss-cpu) (24.2)\n",
            "Requirement already satisfied: transformers<5.0.0,>=4.41.0 in /usr/local/lib/python3.11/dist-packages (from sentence-transformers) (4.52.2)\n",
            "Requirement already satisfied: tqdm in /usr/local/lib/python3.11/dist-packages (from sentence-transformers) (4.67.1)\n",
            "Requirement already satisfied: torch>=1.11.0 in /usr/local/lib/python3.11/dist-packages (from sentence-transformers) (2.6.0+cu124)\n",
            "Requirement already satisfied: scikit-learn in /usr/local/lib/python3.11/dist-packages (from sentence-transformers) (1.6.1)\n",
            "Requirement already satisfied: scipy in /usr/local/lib/python3.11/dist-packages (from sentence-transformers) (1.15.3)\n",
            "Requirement already satisfied: huggingface-hub>=0.20.0 in /usr/local/lib/python3.11/dist-packages (from sentence-transformers) (0.31.4)\n",
            "Requirement already satisfied: Pillow in /usr/local/lib/python3.11/dist-packages (from sentence-transformers) (11.2.1)\n",
            "Requirement already satisfied: typing_extensions>=4.5.0 in /usr/local/lib/python3.11/dist-packages (from sentence-transformers) (4.13.2)\n",
            "Requirement already satisfied: filelock in /usr/local/lib/python3.11/dist-packages (from huggingface-hub>=0.20.0->sentence-transformers) (3.18.0)\n",
            "Requirement already satisfied: fsspec>=2023.5.0 in /usr/local/lib/python3.11/dist-packages (from huggingface-hub>=0.20.0->sentence-transformers) (2025.3.2)\n",
            "Requirement already satisfied: pyyaml>=5.1 in /usr/local/lib/python3.11/dist-packages (from huggingface-hub>=0.20.0->sentence-transformers) (6.0.2)\n",
            "Requirement already satisfied: requests in /usr/local/lib/python3.11/dist-packages (from huggingface-hub>=0.20.0->sentence-transformers) (2.32.3)\n",
            "Requirement already satisfied: networkx in /usr/local/lib/python3.11/dist-packages (from torch>=1.11.0->sentence-transformers) (3.4.2)\n",
            "Requirement already satisfied: jinja2 in /usr/local/lib/python3.11/dist-packages (from torch>=1.11.0->sentence-transformers) (3.1.6)\n",
            "Requirement already satisfied: nvidia-cuda-nvrtc-cu12==12.4.127 in /usr/local/lib/python3.11/dist-packages (from torch>=1.11.0->sentence-transformers) (12.4.127)\n",
            "Requirement already satisfied: nvidia-cuda-runtime-cu12==12.4.127 in /usr/local/lib/python3.11/dist-packages (from torch>=1.11.0->sentence-transformers) (12.4.127)\n",
            "Requirement already satisfied: nvidia-cuda-cupti-cu12==12.4.127 in /usr/local/lib/python3.11/dist-packages (from torch>=1.11.0->sentence-transformers) (12.4.127)\n",
            "Requirement already satisfied: nvidia-cudnn-cu12==9.1.0.70 in /usr/local/lib/python3.11/dist-packages (from torch>=1.11.0->sentence-transformers) (9.1.0.70)\n",
            "Requirement already satisfied: nvidia-cublas-cu12==12.4.5.8 in /usr/local/lib/python3.11/dist-packages (from torch>=1.11.0->sentence-transformers) (12.4.5.8)\n",
            "Requirement already satisfied: nvidia-cufft-cu12==11.2.1.3 in /usr/local/lib/python3.11/dist-packages (from torch>=1.11.0->sentence-transformers) (11.2.1.3)\n",
            "Requirement already satisfied: nvidia-curand-cu12==10.3.5.147 in /usr/local/lib/python3.11/dist-packages (from torch>=1.11.0->sentence-transformers) (10.3.5.147)\n",
            "Requirement already satisfied: nvidia-cusolver-cu12==11.6.1.9 in /usr/local/lib/python3.11/dist-packages (from torch>=1.11.0->sentence-transformers) (11.6.1.9)\n",
            "Requirement already satisfied: nvidia-cusparse-cu12==12.3.1.170 in /usr/local/lib/python3.11/dist-packages (from torch>=1.11.0->sentence-transformers) (12.3.1.170)\n",
            "Requirement already satisfied: nvidia-cusparselt-cu12==0.6.2 in /usr/local/lib/python3.11/dist-packages (from torch>=1.11.0->sentence-transformers) (0.6.2)\n",
            "Requirement already satisfied: nvidia-nccl-cu12==2.21.5 in /usr/local/lib/python3.11/dist-packages (from torch>=1.11.0->sentence-transformers) (2.21.5)\n",
            "Requirement already satisfied: nvidia-nvtx-cu12==12.4.127 in /usr/local/lib/python3.11/dist-packages (from torch>=1.11.0->sentence-transformers) (12.4.127)\n",
            "Requirement already satisfied: nvidia-nvjitlink-cu12==12.4.127 in /usr/local/lib/python3.11/dist-packages (from torch>=1.11.0->sentence-transformers) (12.4.127)\n",
            "Requirement already satisfied: triton==3.2.0 in /usr/local/lib/python3.11/dist-packages (from torch>=1.11.0->sentence-transformers) (3.2.0)\n",
            "Requirement already satisfied: sympy==1.13.1 in /usr/local/lib/python3.11/dist-packages (from torch>=1.11.0->sentence-transformers) (1.13.1)\n",
            "Requirement already satisfied: mpmath<1.4,>=1.1.0 in /usr/local/lib/python3.11/dist-packages (from sympy==1.13.1->torch>=1.11.0->sentence-transformers) (1.3.0)\n",
            "Requirement already satisfied: regex!=2019.12.17 in /usr/local/lib/python3.11/dist-packages (from transformers<5.0.0,>=4.41.0->sentence-transformers) (2024.11.6)\n",
            "Requirement already satisfied: tokenizers<0.22,>=0.21 in /usr/local/lib/python3.11/dist-packages (from transformers<5.0.0,>=4.41.0->sentence-transformers) (0.21.1)\n",
            "Requirement already satisfied: safetensors>=0.4.3 in /usr/local/lib/python3.11/dist-packages (from transformers<5.0.0,>=4.41.0->sentence-transformers) (0.5.3)\n",
            "Requirement already satisfied: joblib>=1.2.0 in /usr/local/lib/python3.11/dist-packages (from scikit-learn->sentence-transformers) (1.5.0)\n",
            "Requirement already satisfied: threadpoolctl>=3.1.0 in /usr/local/lib/python3.11/dist-packages (from scikit-learn->sentence-transformers) (3.6.0)\n",
            "Requirement already satisfied: MarkupSafe>=2.0 in /usr/local/lib/python3.11/dist-packages (from jinja2->torch>=1.11.0->sentence-transformers) (3.0.2)\n",
            "Requirement already satisfied: charset-normalizer<4,>=2 in /usr/local/lib/python3.11/dist-packages (from requests->huggingface-hub>=0.20.0->sentence-transformers) (3.4.2)\n",
            "Requirement already satisfied: idna<4,>=2.5 in /usr/local/lib/python3.11/dist-packages (from requests->huggingface-hub>=0.20.0->sentence-transformers) (3.10)\n",
            "Requirement already satisfied: urllib3<3,>=1.21.1 in /usr/local/lib/python3.11/dist-packages (from requests->huggingface-hub>=0.20.0->sentence-transformers) (2.4.0)\n",
            "Requirement already satisfied: certifi>=2017.4.17 in /usr/local/lib/python3.11/dist-packages (from requests->huggingface-hub>=0.20.0->sentence-transformers) (2025.4.26)\n"
          ]
        }
      ]
    },
    {
      "cell_type": "code",
      "source": [
        "from sentence_transformers import SentenceTransformer\n",
        "import faiss\n",
        "\n",
        "# Initialize embedding model\n",
        "embedding_model = SentenceTransformer('all-MiniLM-L6-v2')\n",
        "\n",
        "# Sample documents for RAG\n",
        "DOCUMENTS = [\n",
        "    \"To open a savings account, provide your ID, address proof, and fill a form. Visit a branch or apply online.\",\n",
        "    \"For a personal loan, submit income proof, credit history, and ID documents. Interest rates start at 5% p.a.\",\n",
        "    \"Our credit cards offer cashback, rewards, and no annual fees in year one.\",\n",
        "    \"Use online banking to check balances, transfer money, and pay bills 24/7 securely.\",\n",
        "    \"KYC requires valid ID, address proof, and a recent photo, either online or at a branch.\",\n",
        "    \"To activate UPI, install an app like PhonePe or GPay, complete KYC, and set your UPI PIN.\"\n",
        "]\n",
        "\n",
        "# Precompute document embeddings\n",
        "doc_embeddings = embedding_model.encode(DOCUMENTS, convert_to_tensor=False)\n",
        "index = faiss.IndexFlatL2(doc_embeddings[0].shape[0])\n",
        "index.add(np.array(doc_embeddings))\n",
        "\n",
        "# Function to retrieve relevant documents\n",
        "def retrieve_docs_rag(query, k=2):\n",
        "    query_embedding = embedding_model.encode([query])[0]\n",
        "    D, I = index.search(np.array([query_embedding]), k)\n",
        "    retrieved_docs = [DOCUMENTS[i] for i in I[0]]\n",
        "    logger.info(f\"RAG Retrieved Docs: {retrieved_docs}\")\n",
        "    return retrieved_docs\n"
      ],
      "metadata": {
        "id": "uxR8XxLsLs4g"
      },
      "execution_count": 86,
      "outputs": []
    },
    {
      "cell_type": "code",
      "source": [],
      "metadata": {
        "id": "RqSPriM_L6Qs"
      },
      "execution_count": null,
      "outputs": []
    }
  ]
}