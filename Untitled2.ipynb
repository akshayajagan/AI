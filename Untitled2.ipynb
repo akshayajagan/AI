{
  "nbformat": 4,
  "nbformat_minor": 0,
  "metadata": {
    "colab": {
      "provenance": []
    },
    "kernelspec": {
      "name": "python3",
      "display_name": "Python 3"
    },
    "language_info": {
      "name": "python"
    }
  },
  "cells": [
    {
      "cell_type": "code",
      "execution_count": 1,
      "metadata": {
        "id": "xp31scqjxi3k"
      },
      "outputs": [],
      "source": [
        "from fastai import *\n",
        "from fastai.vision import *\n",
        "from fastai.metrics import error_rate\n",
        "import os\n",
        "import pandas as pd\n",
        "import numpy as np\n",
        "import matplotlib.pyplot as plt\n",
        "import seaborn as sns\n",
        "import cv2"
      ]
    },
    {
      "cell_type": "code",
      "source": [
        "x  = 'https://www.kaggle.com/datasets/puneet6060/intel-image-classification'\n",
        "path = Path(x)\n",
        "path.ls()"
      ],
      "metadata": {
        "id": "lVc1ABgey9fA"
      },
      "execution_count": null,
      "outputs": []
    },
    {
      "cell_type": "code",
      "source": [
        "np.random.seed(40)\n",
        "data = ImageDataBunch.from_folder(path, train = '.', valid_pct=0.2,\n",
        "                                  ds_tfms=get_transforms(), size=224,\n",
        "                                  num_workers=4).normalize(imagenet_stats)"
      ],
      "metadata": {
        "id": "Iahm2TYsxtW8"
      },
      "execution_count": null,
      "outputs": []
    },
    {
      "cell_type": "code",
      "source": [
        "data.show_batch(rows=3, figsize=(7,6),recompute_scale_factor=True)"
      ],
      "metadata": {
        "id": "3RRjhiymxp6z"
      },
      "execution_count": null,
      "outputs": []
    },
    {
      "cell_type": "code",
      "source": [
        "data\n"
      ],
      "metadata": {
        "id": "ekkqDOAMxzmJ"
      },
      "execution_count": null,
      "outputs": []
    },
    {
      "cell_type": "code",
      "source": [
        "print(data.classes)\n",
        "len(data.classes)\n",
        "data.c"
      ],
      "metadata": {
        "id": "bMkOEE0uxzzZ"
      },
      "execution_count": null,
      "outputs": []
    },
    {
      "cell_type": "code",
      "source": [
        "learn = cnn_learner(data, models.resnet18, metrics=[accuracy], model_dir = Path('../kaggle/working'),path = Path(\".\"))"
      ],
      "metadata": {
        "id": "ooO6gX3kxz2Q"
      },
      "execution_count": null,
      "outputs": []
    },
    {
      "cell_type": "code",
      "source": [
        "learn.lr_find()\n",
        "learn.recorder.plot(suggestions=True)"
      ],
      "metadata": {
        "id": "vvGDd1Cjxz42"
      },
      "execution_count": null,
      "outputs": []
    },
    {
      "cell_type": "code",
      "source": [
        "lr1 = 1e-3\n",
        "lr2 = 1e-1\n",
        "learn.fit_one_cycle(40,slice(lr1,lr2))"
      ],
      "metadata": {
        "id": "N_tyjL6Bxz7K"
      },
      "execution_count": null,
      "outputs": []
    },
    {
      "cell_type": "code",
      "source": [
        "learn.unfreeze()\n",
        "learn.fit_one_cycle(20,slice(1e-4,1e-3))"
      ],
      "metadata": {
        "id": "Kdrvjsfwxz9m"
      },
      "execution_count": null,
      "outputs": []
    },
    {
      "cell_type": "code",
      "source": [
        "learn.recorder.plot_losses()"
      ],
      "metadata": {
        "id": "oNGD23yox0Ak"
      },
      "execution_count": null,
      "outputs": []
    },
    {
      "cell_type": "code",
      "source": [
        "interp = ClassificationInterpretation.from_learner(learn)\n",
        "interp.plot_confusion_matrix()"
      ],
      "metadata": {
        "id": "424Ljj_Rx0Df"
      },
      "execution_count": null,
      "outputs": []
    },
    {
      "cell_type": "code",
      "source": [
        "interp = ClassificationInterpretation.from_learner(learn)\n",
        "interp.plot_confusion_matrix()"
      ],
      "metadata": {
        "id": "xy7qPICVx0F9"
      },
      "execution_count": null,
      "outputs": []
    },
    {
      "cell_type": "code",
      "source": [
        "img = open_image('/kaggle/input/intel-image-classification/seg_test/seg_test/glacier/21982.jpg')\n",
        "print(learn.predict(img)[0])"
      ],
      "metadata": {
        "id": "lxShsDAEyQvn"
      },
      "execution_count": null,
      "outputs": []
    },
    {
      "cell_type": "code",
      "source": [
        "img = open_image('/kaggle/input/intel-image-classification/seg_test/seg_test/glacier/21982.jpg')\n",
        "print(learn.predict(img)[0])"
      ],
      "metadata": {
        "id": "L58v8G39yT3i"
      },
      "execution_count": null,
      "outputs": []
    },
    {
      "cell_type": "code",
      "source": [
        "learn.export(file = Path(\"/kaggle/working/export.pkl\"))\n",
        "learn.model_dir = \"/kaggle/working\"\n",
        "learn.save(\"stage-1\",return_path=True)"
      ],
      "metadata": {
        "id": "oXz4EjXVyUC-"
      },
      "execution_count": null,
      "outputs": []
    }
  ]
}